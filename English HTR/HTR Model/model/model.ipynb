{
 "metadata": {
  "language_info": {
   "codemirror_mode": {
    "name": "ipython",
    "version": 3
   },
   "file_extension": ".py",
   "mimetype": "text/x-python",
   "name": "python",
   "nbconvert_exporter": "python",
   "pygments_lexer": "ipython3",
   "version": "3.7.9-final"
  },
  "orig_nbformat": 2,
  "kernelspec": {
   "name": "Python 3.7.9 64-bit ('py37': conda)",
   "display_name": "Python 3.7.9 64-bit ('py37': conda)",
   "metadata": {
    "interpreter": {
     "hash": "4c02602eb15a4b95f5d170c436c0572c3921254476605f16e2e8702e121cc4d0"
    }
   }
  }
 },
 "nbformat": 4,
 "nbformat_minor": 2,
 "cells": [
  {
   "cell_type": "code",
   "execution_count": 1,
   "metadata": {
    "tags": []
   },
   "outputs": [],
   "source": [
    "import os\n",
    "import cv2\n",
    "import numpy as np\n",
    "import random\n",
    "import string\n",
    "import time"
   ]
  },
  {
   "cell_type": "code",
   "execution_count": 2,
   "metadata": {},
   "outputs": [],
   "source": [
    "#def encode_to_labels(txt):\n",
    "\t#dig_lst = []\n",
    "#\tdf = pd.DataFrame(txt, columns=['words', 'numbers', 'orders'])\n",
    "#\ttxt_df = df.drop(columns=['numbers', 'orders'])\n",
    "#\tlabelencoder = LabelEncoder()\n",
    "#\ttxt_df['word_numbers'] = labelencoder.fit_transform(txt_df['words'])\n",
    "\t#dig_lst.append(txt_df)\n",
    "#\treturn np.asarray(txt_df)\n",
    "\n",
    "char_list = string.ascii_letters+string.digits+string.punctuation\n",
    "\n",
    "def encode_to_labels(tex):\n",
    "    # encoding each output word into digits\n",
    "    dig_lst = []\n",
    "    for index, char in enumerate(tex):\n",
    "        try:\n",
    "            dig_lst.append(char_list.index(char))\n",
    "        except:\n",
    "            print(char)\n",
    "        \n",
    "    return dig_lst"
   ]
  },
  {
   "cell_type": "code",
   "execution_count": 1,
   "metadata": {
    "tags": []
   },
   "outputs": [
    {
     "output_type": "stream",
     "name": "stdout",
     "text": "115318\n"
    }
   ],
   "source": [
    "txt = []\n",
    "with open('../data/words.txt') as f:\n",
    "    for line in f:\n",
    "        if not line or line[0]=='#':\n",
    "            continue\n",
    "        lineSplit = line.strip().split(' ')\n",
    "        assert len(lineSplit) >= 9\n",
    "        # GT text are columns starting at 9\n",
    "        gtText = ' '.join(lineSplit[8:])\n",
    "        txt.append(gtText)\n",
    "print(len(txt)) "
   ]
  },
  {
   "cell_type": "code",
   "execution_count": 40,
   "metadata": {},
   "outputs": [],
   "source": [
    "def resize_words(img, imgSize = (128, 32)):\n",
    "    (wt, ht) = imgSize\n",
    "    h, w = img.shape[:2]\n",
    "    fx = w / wt\n",
    "    fy = h / ht\n",
    "    f = max(fx, fy)\n",
    "    newSize = (max(min(wt, int(w / f)), 1), max(min(ht, int(h / f)), 1)) \n",
    "    img = cv2.resize(img, newSize)\n",
    "    mask = np.ones([ht, wt]) * 255\n",
    "    mask[0:newSize[1], 0:newSize[0]] = img\n",
    "    return cv2.resize(mask, imgSize, interpolation = cv2.INTER_AREA)"
   ]
  },
  {
   "cell_type": "code",
   "execution_count": 8,
   "metadata": {},
   "outputs": [
    {
     "output_type": "execute_result",
     "data": {
      "text/plain": "(115318, 32, 128, 1)"
     },
     "metadata": {},
     "execution_count": 8
    }
   ],
   "source": [
    "images = []\n",
    "bad_images = []\n",
    "rootdir = '../data/words_images'\n",
    "for imgs in os.listdir(rootdir):\n",
    "    #for img in imgs:\n",
    "    img = cv2.imread(os.path.join(rootdir, imgs), 0)\n",
    "    if img is None:\n",
    "        bad_images.append(img)\n",
    "        continue\n",
    "    img = resize_words(img, imgSize = (128, 32))\n",
    "    img = np.expand_dims(img , axis = 2)\n",
    "    img = img/255.\n",
    "    images.append(img)\n",
    "np.asarray(images).shape"
   ]
  },
  {
   "cell_type": "code",
   "execution_count": 17,
   "metadata": {
    "tags": []
   },
   "outputs": [
    {
     "output_type": "stream",
     "name": "stdout",
     "text": " \n \n \n \n \n \n \n \n \n \n \n \n \n \n \n \n \n \n \n \n \n \n \n \n \n \n \n \n \n \n \n \n \n \n \n \n \n \n \n \n \n \n \n \n \n \n \n \n \n \n \n \n \n \n \n \n \n \n \n \n \n \n \n \n \n \n \n \n \n \n \n \n \n \n \n \n \n \n \n \n \n \n \n \n \n \n \n \n \n \n \n \n \n \n \n5766\n5766\n5766\n5766\n109552\n109552\n109552\n109552\n"
    }
   ],
   "source": [
    "# lists for training dataset\n",
    "training_txt = []\n",
    "train_input_length = []\n",
    "train_label_length = []\n",
    "orig_txt = []\n",
    " \n",
    "#lists for validation dataset\n",
    "valid_txt = []\n",
    "valid_input_length = []\n",
    "valid_label_length = []\n",
    "valid_orig_txt = []\n",
    "max_label_len = 0\n",
    "i = 0\n",
    "for text in txt:\n",
    "    i += 1\n",
    "    if len(text) > max_label_len:\n",
    "            max_label_len = len(text)\n",
    "            \n",
    "    if i<=5766:\n",
    "        valid_orig_txt.append(text)   \n",
    "        valid_label_length.append(len(text))\n",
    "        valid_input_length.append(31)\n",
    "        valid_txt.append(encode_to_labels(text))\n",
    "    else:\n",
    "        orig_txt.append(text)   \n",
    "        train_label_length.append(len(text))\n",
    "        train_input_length.append(31)\n",
    "        training_txt.append(encode_to_labels(text))        \n",
    "\n",
    "print(np.asarray(valid_orig_txt).size)\n",
    "print(np.asarray(valid_label_length).size)\n",
    "print(np.asarray(valid_input_length).size)\n",
    "print(np.asarray(valid_txt).size)\n",
    "print(np.asarray(orig_txt).size)\n",
    "print(np.asarray(train_label_length).size)\n",
    "print(np.asarray(train_input_length).size)\n",
    "print(np.asarray(training_txt).size)"
   ]
  },
  {
   "cell_type": "code",
   "execution_count": 18,
   "metadata": {
    "tags": []
   },
   "outputs": [],
   "source": [
    "valid_img = []\n",
    "training_img = []\n",
    "j = 0\n",
    "for word in images:\n",
    "    j += 1\n",
    "    if j<=5766:\n",
    "        valid_img.append(word)\n",
    "    else:\n",
    "        training_img.append(word)"
   ]
  },
  {
   "cell_type": "code",
   "execution_count": 19,
   "metadata": {},
   "outputs": [
    {
     "output_type": "execute_result",
     "data": {
      "text/plain": "<matplotlib.image.AxesImage at 0x19ff70a4b08>"
     },
     "metadata": {},
     "execution_count": 19
    },
    {
     "output_type": "display_data",
     "data": {
      "text/plain": "<Figure size 432x288 with 1 Axes>",
      "image/svg+xml": "<?xml version=\"1.0\" encoding=\"utf-8\" standalone=\"no\"?>\r\n<!DOCTYPE svg PUBLIC \"-//W3C//DTD SVG 1.1//EN\"\r\n  \"http://www.w3.org/Graphics/SVG/1.1/DTD/svg11.dtd\">\r\n<!-- Created with matplotlib (https://matplotlib.org/) -->\r\n<svg height=\"117.269531pt\" version=\"1.1\" viewBox=\"0 0 368.925 117.269531\" width=\"368.925pt\" xmlns=\"http://www.w3.org/2000/svg\" xmlns:xlink=\"http://www.w3.org/1999/xlink\">\r\n <metadata>\r\n  <rdf:RDF xmlns:cc=\"http://creativecommons.org/ns#\" xmlns:dc=\"http://purl.org/dc/elements/1.1/\" xmlns:rdf=\"http://www.w3.org/1999/02/22-rdf-syntax-ns#\">\r\n   <cc:Work>\r\n    <dc:type rdf:resource=\"http://purl.org/dc/dcmitype/StillImage\"/>\r\n    <dc:date>2020-09-28T17:57:40.832065</dc:date>\r\n    <dc:format>image/svg+xml</dc:format>\r\n    <dc:creator>\r\n     <cc:Agent>\r\n      <dc:title>Matplotlib v3.3.1, https://matplotlib.org/</dc:title>\r\n     </cc:Agent>\r\n    </dc:creator>\r\n   </cc:Work>\r\n  </rdf:RDF>\r\n </metadata>\r\n <defs>\r\n  <style type=\"text/css\">*{stroke-linecap:butt;stroke-linejoin:round;}</style>\r\n </defs>\r\n <g id=\"figure_1\">\r\n  <g id=\"patch_1\">\r\n   <path d=\"M -0 117.269531 \r\nL 368.925 117.269531 \r\nL 368.925 0 \r\nL -0 0 \r\nz\r\n\" style=\"fill:none;\"/>\r\n  </g>\r\n  <g id=\"axes_1\">\r\n   <g id=\"patch_2\">\r\n    <path d=\"M 26.925 93.391406 \r\nL 361.725 93.391406 \r\nL 361.725 9.691406 \r\nL 26.925 9.691406 \r\nz\r\n\" style=\"fill:#ffffff;\"/>\r\n   </g>\r\n   <g clip-path=\"url(#pa7c1bc3268)\">\r\n    <image height=\"84\" id=\"image35207c8052\" transform=\"scale(1 -1)translate(0 -84)\" width=\"335\" x=\"26.925\" xlink:href=\"data:image/png;base64,\r\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\" y=\"-9.391406\"/>\r\n   </g>\r\n   <g id=\"matplotlib.axis_1\">\r\n    <g id=\"xtick_1\">\r\n     <g id=\"line2d_1\">\r\n      <defs>\r\n       <path d=\"M 0 0 \r\nL 0 3.5 \r\n\" id=\"m71daf177ba\" style=\"stroke:#000000;stroke-width:0.8;\"/>\r\n      </defs>\r\n      <g>\r\n       <use style=\"stroke:#000000;stroke-width:0.8;\" x=\"28.232813\" xlink:href=\"#m71daf177ba\" y=\"93.391406\"/>\r\n      </g>\r\n     </g>\r\n     <g id=\"text_1\">\r\n      <!-- 0 -->\r\n      <g transform=\"translate(25.051563 107.989844)scale(0.1 -0.1)\">\r\n       <defs>\r\n        <path d=\"M 31.78125 66.40625 \r\nQ 24.171875 66.40625 20.328125 58.90625 \r\nQ 16.5 51.421875 16.5 36.375 \r\nQ 16.5 21.390625 20.328125 13.890625 \r\nQ 24.171875 6.390625 31.78125 6.390625 \r\nQ 39.453125 6.390625 43.28125 13.890625 \r\nQ 47.125 21.390625 47.125 36.375 \r\nQ 47.125 51.421875 43.28125 58.90625 \r\nQ 39.453125 66.40625 31.78125 66.40625 \r\nz\r\nM 31.78125 74.21875 \r\nQ 44.046875 74.21875 50.515625 64.515625 \r\nQ 56.984375 54.828125 56.984375 36.375 \r\nQ 56.984375 17.96875 50.515625 8.265625 \r\nQ 44.046875 -1.421875 31.78125 -1.421875 \r\nQ 19.53125 -1.421875 13.0625 8.265625 \r\nQ 6.59375 17.96875 6.59375 36.375 \r\nQ 6.59375 54.828125 13.0625 64.515625 \r\nQ 19.53125 74.21875 31.78125 74.21875 \r\nz\r\n\" id=\"DejaVuSans-48\"/>\r\n       </defs>\r\n       <use xlink:href=\"#DejaVuSans-48\"/>\r\n      </g>\r\n     </g>\r\n    </g>\r\n    <g id=\"xtick_2\">\r\n     <g id=\"line2d_2\">\r\n      <g>\r\n       <use style=\"stroke:#000000;stroke-width:0.8;\" x=\"80.545313\" xlink:href=\"#m71daf177ba\" y=\"93.391406\"/>\r\n      </g>\r\n     </g>\r\n     <g id=\"text_2\">\r\n      <!-- 20 -->\r\n      <g transform=\"translate(74.182813 107.989844)scale(0.1 -0.1)\">\r\n       <defs>\r\n        <path d=\"M 19.1875 8.296875 \r\nL 53.609375 8.296875 \r\nL 53.609375 0 \r\nL 7.328125 0 \r\nL 7.328125 8.296875 \r\nQ 12.9375 14.109375 22.625 23.890625 \r\nQ 32.328125 33.6875 34.8125 36.53125 \r\nQ 39.546875 41.84375 41.421875 45.53125 \r\nQ 43.3125 49.21875 43.3125 52.78125 \r\nQ 43.3125 58.59375 39.234375 62.25 \r\nQ 35.15625 65.921875 28.609375 65.921875 \r\nQ 23.96875 65.921875 18.8125 64.3125 \r\nQ 13.671875 62.703125 7.8125 59.421875 \r\nL 7.8125 69.390625 \r\nQ 13.765625 71.78125 18.9375 73 \r\nQ 24.125 74.21875 28.421875 74.21875 \r\nQ 39.75 74.21875 46.484375 68.546875 \r\nQ 53.21875 62.890625 53.21875 53.421875 \r\nQ 53.21875 48.921875 51.53125 44.890625 \r\nQ 49.859375 40.875 45.40625 35.40625 \r\nQ 44.1875 33.984375 37.640625 27.21875 \r\nQ 31.109375 20.453125 19.1875 8.296875 \r\nz\r\n\" id=\"DejaVuSans-50\"/>\r\n       </defs>\r\n       <use xlink:href=\"#DejaVuSans-50\"/>\r\n       <use x=\"63.623047\" xlink:href=\"#DejaVuSans-48\"/>\r\n      </g>\r\n     </g>\r\n    </g>\r\n    <g id=\"xtick_3\">\r\n     <g id=\"line2d_3\">\r\n      <g>\r\n       <use style=\"stroke:#000000;stroke-width:0.8;\" x=\"132.857812\" xlink:href=\"#m71daf177ba\" y=\"93.391406\"/>\r\n      </g>\r\n     </g>\r\n     <g id=\"text_3\">\r\n      <!-- 40 -->\r\n      <g transform=\"translate(126.495312 107.989844)scale(0.1 -0.1)\">\r\n       <defs>\r\n        <path d=\"M 37.796875 64.3125 \r\nL 12.890625 25.390625 \r\nL 37.796875 25.390625 \r\nz\r\nM 35.203125 72.90625 \r\nL 47.609375 72.90625 \r\nL 47.609375 25.390625 \r\nL 58.015625 25.390625 \r\nL 58.015625 17.1875 \r\nL 47.609375 17.1875 \r\nL 47.609375 0 \r\nL 37.796875 0 \r\nL 37.796875 17.1875 \r\nL 4.890625 17.1875 \r\nL 4.890625 26.703125 \r\nz\r\n\" id=\"DejaVuSans-52\"/>\r\n       </defs>\r\n       <use xlink:href=\"#DejaVuSans-52\"/>\r\n       <use x=\"63.623047\" xlink:href=\"#DejaVuSans-48\"/>\r\n      </g>\r\n     </g>\r\n    </g>\r\n    <g id=\"xtick_4\">\r\n     <g id=\"line2d_4\">\r\n      <g>\r\n       <use style=\"stroke:#000000;stroke-width:0.8;\" x=\"185.170312\" xlink:href=\"#m71daf177ba\" y=\"93.391406\"/>\r\n      </g>\r\n     </g>\r\n     <g id=\"text_4\">\r\n      <!-- 60 -->\r\n      <g transform=\"translate(178.807812 107.989844)scale(0.1 -0.1)\">\r\n       <defs>\r\n        <path d=\"M 33.015625 40.375 \r\nQ 26.375 40.375 22.484375 35.828125 \r\nQ 18.609375 31.296875 18.609375 23.390625 \r\nQ 18.609375 15.53125 22.484375 10.953125 \r\nQ 26.375 6.390625 33.015625 6.390625 \r\nQ 39.65625 6.390625 43.53125 10.953125 \r\nQ 47.40625 15.53125 47.40625 23.390625 \r\nQ 47.40625 31.296875 43.53125 35.828125 \r\nQ 39.65625 40.375 33.015625 40.375 \r\nz\r\nM 52.59375 71.296875 \r\nL 52.59375 62.3125 \r\nQ 48.875 64.0625 45.09375 64.984375 \r\nQ 41.3125 65.921875 37.59375 65.921875 \r\nQ 27.828125 65.921875 22.671875 59.328125 \r\nQ 17.53125 52.734375 16.796875 39.40625 \r\nQ 19.671875 43.65625 24.015625 45.921875 \r\nQ 28.375 48.1875 33.59375 48.1875 \r\nQ 44.578125 48.1875 50.953125 41.515625 \r\nQ 57.328125 34.859375 57.328125 23.390625 \r\nQ 57.328125 12.15625 50.6875 5.359375 \r\nQ 44.046875 -1.421875 33.015625 -1.421875 \r\nQ 20.359375 -1.421875 13.671875 8.265625 \r\nQ 6.984375 17.96875 6.984375 36.375 \r\nQ 6.984375 53.65625 15.1875 63.9375 \r\nQ 23.390625 74.21875 37.203125 74.21875 \r\nQ 40.921875 74.21875 44.703125 73.484375 \r\nQ 48.484375 72.75 52.59375 71.296875 \r\nz\r\n\" id=\"DejaVuSans-54\"/>\r\n       </defs>\r\n       <use xlink:href=\"#DejaVuSans-54\"/>\r\n       <use x=\"63.623047\" xlink:href=\"#DejaVuSans-48\"/>\r\n      </g>\r\n     </g>\r\n    </g>\r\n    <g id=\"xtick_5\">\r\n     <g id=\"line2d_5\">\r\n      <g>\r\n       <use style=\"stroke:#000000;stroke-width:0.8;\" x=\"237.482812\" xlink:href=\"#m71daf177ba\" y=\"93.391406\"/>\r\n      </g>\r\n     </g>\r\n     <g id=\"text_5\">\r\n      <!-- 80 -->\r\n      <g transform=\"translate(231.120312 107.989844)scale(0.1 -0.1)\">\r\n       <defs>\r\n        <path d=\"M 31.78125 34.625 \r\nQ 24.75 34.625 20.71875 30.859375 \r\nQ 16.703125 27.09375 16.703125 20.515625 \r\nQ 16.703125 13.921875 20.71875 10.15625 \r\nQ 24.75 6.390625 31.78125 6.390625 \r\nQ 38.8125 6.390625 42.859375 10.171875 \r\nQ 46.921875 13.96875 46.921875 20.515625 \r\nQ 46.921875 27.09375 42.890625 30.859375 \r\nQ 38.875 34.625 31.78125 34.625 \r\nz\r\nM 21.921875 38.8125 \r\nQ 15.578125 40.375 12.03125 44.71875 \r\nQ 8.5 49.078125 8.5 55.328125 \r\nQ 8.5 64.0625 14.71875 69.140625 \r\nQ 20.953125 74.21875 31.78125 74.21875 \r\nQ 42.671875 74.21875 48.875 69.140625 \r\nQ 55.078125 64.0625 55.078125 55.328125 \r\nQ 55.078125 49.078125 51.53125 44.71875 \r\nQ 48 40.375 41.703125 38.8125 \r\nQ 48.828125 37.15625 52.796875 32.3125 \r\nQ 56.78125 27.484375 56.78125 20.515625 \r\nQ 56.78125 9.90625 50.3125 4.234375 \r\nQ 43.84375 -1.421875 31.78125 -1.421875 \r\nQ 19.734375 -1.421875 13.25 4.234375 \r\nQ 6.78125 9.90625 6.78125 20.515625 \r\nQ 6.78125 27.484375 10.78125 32.3125 \r\nQ 14.796875 37.15625 21.921875 38.8125 \r\nz\r\nM 18.3125 54.390625 \r\nQ 18.3125 48.734375 21.84375 45.5625 \r\nQ 25.390625 42.390625 31.78125 42.390625 \r\nQ 38.140625 42.390625 41.71875 45.5625 \r\nQ 45.3125 48.734375 45.3125 54.390625 \r\nQ 45.3125 60.0625 41.71875 63.234375 \r\nQ 38.140625 66.40625 31.78125 66.40625 \r\nQ 25.390625 66.40625 21.84375 63.234375 \r\nQ 18.3125 60.0625 18.3125 54.390625 \r\nz\r\n\" id=\"DejaVuSans-56\"/>\r\n       </defs>\r\n       <use xlink:href=\"#DejaVuSans-56\"/>\r\n       <use x=\"63.623047\" xlink:href=\"#DejaVuSans-48\"/>\r\n      </g>\r\n     </g>\r\n    </g>\r\n    <g id=\"xtick_6\">\r\n     <g id=\"line2d_6\">\r\n      <g>\r\n       <use style=\"stroke:#000000;stroke-width:0.8;\" x=\"289.795313\" xlink:href=\"#m71daf177ba\" y=\"93.391406\"/>\r\n      </g>\r\n     </g>\r\n     <g id=\"text_6\">\r\n      <!-- 100 -->\r\n      <g transform=\"translate(280.251563 107.989844)scale(0.1 -0.1)\">\r\n       <defs>\r\n        <path d=\"M 12.40625 8.296875 \r\nL 28.515625 8.296875 \r\nL 28.515625 63.921875 \r\nL 10.984375 60.40625 \r\nL 10.984375 69.390625 \r\nL 28.421875 72.90625 \r\nL 38.28125 72.90625 \r\nL 38.28125 8.296875 \r\nL 54.390625 8.296875 \r\nL 54.390625 0 \r\nL 12.40625 0 \r\nz\r\n\" id=\"DejaVuSans-49\"/>\r\n       </defs>\r\n       <use xlink:href=\"#DejaVuSans-49\"/>\r\n       <use x=\"63.623047\" xlink:href=\"#DejaVuSans-48\"/>\r\n       <use x=\"127.246094\" xlink:href=\"#DejaVuSans-48\"/>\r\n      </g>\r\n     </g>\r\n    </g>\r\n    <g id=\"xtick_7\">\r\n     <g id=\"line2d_7\">\r\n      <g>\r\n       <use style=\"stroke:#000000;stroke-width:0.8;\" x=\"342.107813\" xlink:href=\"#m71daf177ba\" y=\"93.391406\"/>\r\n      </g>\r\n     </g>\r\n     <g id=\"text_7\">\r\n      <!-- 120 -->\r\n      <g transform=\"translate(332.564063 107.989844)scale(0.1 -0.1)\">\r\n       <use xlink:href=\"#DejaVuSans-49\"/>\r\n       <use x=\"63.623047\" xlink:href=\"#DejaVuSans-50\"/>\r\n       <use x=\"127.246094\" xlink:href=\"#DejaVuSans-48\"/>\r\n      </g>\r\n     </g>\r\n    </g>\r\n   </g>\r\n   <g id=\"matplotlib.axis_2\">\r\n    <g id=\"ytick_1\">\r\n     <g id=\"line2d_8\">\r\n      <defs>\r\n       <path d=\"M 0 0 \r\nL -3.5 0 \r\n\" id=\"mafeec6c8ee\" style=\"stroke:#000000;stroke-width:0.8;\"/>\r\n      </defs>\r\n      <g>\r\n       <use style=\"stroke:#000000;stroke-width:0.8;\" x=\"26.925\" xlink:href=\"#mafeec6c8ee\" y=\"10.999219\"/>\r\n      </g>\r\n     </g>\r\n     <g id=\"text_8\">\r\n      <!-- 0 -->\r\n      <g transform=\"translate(13.5625 14.798437)scale(0.1 -0.1)\">\r\n       <use xlink:href=\"#DejaVuSans-48\"/>\r\n      </g>\r\n     </g>\r\n    </g>\r\n    <g id=\"ytick_2\">\r\n     <g id=\"line2d_9\">\r\n      <g>\r\n       <use style=\"stroke:#000000;stroke-width:0.8;\" x=\"26.925\" xlink:href=\"#mafeec6c8ee\" y=\"37.155469\"/>\r\n      </g>\r\n     </g>\r\n     <g id=\"text_9\">\r\n      <!-- 10 -->\r\n      <g transform=\"translate(7.2 40.954687)scale(0.1 -0.1)\">\r\n       <use xlink:href=\"#DejaVuSans-49\"/>\r\n       <use x=\"63.623047\" xlink:href=\"#DejaVuSans-48\"/>\r\n      </g>\r\n     </g>\r\n    </g>\r\n    <g id=\"ytick_3\">\r\n     <g id=\"line2d_10\">\r\n      <g>\r\n       <use style=\"stroke:#000000;stroke-width:0.8;\" x=\"26.925\" xlink:href=\"#mafeec6c8ee\" y=\"63.311719\"/>\r\n      </g>\r\n     </g>\r\n     <g id=\"text_10\">\r\n      <!-- 20 -->\r\n      <g transform=\"translate(7.2 67.110937)scale(0.1 -0.1)\">\r\n       <use xlink:href=\"#DejaVuSans-50\"/>\r\n       <use x=\"63.623047\" xlink:href=\"#DejaVuSans-48\"/>\r\n      </g>\r\n     </g>\r\n    </g>\r\n    <g id=\"ytick_4\">\r\n     <g id=\"line2d_11\">\r\n      <g>\r\n       <use style=\"stroke:#000000;stroke-width:0.8;\" x=\"26.925\" xlink:href=\"#mafeec6c8ee\" y=\"89.467969\"/>\r\n      </g>\r\n     </g>\r\n     <g id=\"text_11\">\r\n      <!-- 30 -->\r\n      <g transform=\"translate(7.2 93.267187)scale(0.1 -0.1)\">\r\n       <defs>\r\n        <path d=\"M 40.578125 39.3125 \r\nQ 47.65625 37.796875 51.625 33 \r\nQ 55.609375 28.21875 55.609375 21.1875 \r\nQ 55.609375 10.40625 48.1875 4.484375 \r\nQ 40.765625 -1.421875 27.09375 -1.421875 \r\nQ 22.515625 -1.421875 17.65625 -0.515625 \r\nQ 12.796875 0.390625 7.625 2.203125 \r\nL 7.625 11.71875 \r\nQ 11.71875 9.328125 16.59375 8.109375 \r\nQ 21.484375 6.890625 26.8125 6.890625 \r\nQ 36.078125 6.890625 40.9375 10.546875 \r\nQ 45.796875 14.203125 45.796875 21.1875 \r\nQ 45.796875 27.640625 41.28125 31.265625 \r\nQ 36.765625 34.90625 28.71875 34.90625 \r\nL 20.21875 34.90625 \r\nL 20.21875 43.015625 \r\nL 29.109375 43.015625 \r\nQ 36.375 43.015625 40.234375 45.921875 \r\nQ 44.09375 48.828125 44.09375 54.296875 \r\nQ 44.09375 59.90625 40.109375 62.90625 \r\nQ 36.140625 65.921875 28.71875 65.921875 \r\nQ 24.65625 65.921875 20.015625 65.03125 \r\nQ 15.375 64.15625 9.8125 62.3125 \r\nL 9.8125 71.09375 \r\nQ 15.4375 72.65625 20.34375 73.4375 \r\nQ 25.25 74.21875 29.59375 74.21875 \r\nQ 40.828125 74.21875 47.359375 69.109375 \r\nQ 53.90625 64.015625 53.90625 55.328125 \r\nQ 53.90625 49.265625 50.4375 45.09375 \r\nQ 46.96875 40.921875 40.578125 39.3125 \r\nz\r\n\" id=\"DejaVuSans-51\"/>\r\n       </defs>\r\n       <use xlink:href=\"#DejaVuSans-51\"/>\r\n       <use x=\"63.623047\" xlink:href=\"#DejaVuSans-48\"/>\r\n      </g>\r\n     </g>\r\n    </g>\r\n   </g>\r\n   <g id=\"patch_3\">\r\n    <path d=\"M 26.925 93.391406 \r\nL 26.925 9.691406 \r\n\" style=\"fill:none;stroke:#000000;stroke-linecap:square;stroke-linejoin:miter;stroke-width:0.8;\"/>\r\n   </g>\r\n   <g id=\"patch_4\">\r\n    <path d=\"M 361.725 93.391406 \r\nL 361.725 9.691406 \r\n\" style=\"fill:none;stroke:#000000;stroke-linecap:square;stroke-linejoin:miter;stroke-width:0.8;\"/>\r\n   </g>\r\n   <g id=\"patch_5\">\r\n    <path d=\"M 26.925 93.391406 \r\nL 361.725 93.391406 \r\n\" style=\"fill:none;stroke:#000000;stroke-linecap:square;stroke-linejoin:miter;stroke-width:0.8;\"/>\r\n   </g>\r\n   <g id=\"patch_6\">\r\n    <path d=\"M 26.925 9.691406 \r\nL 361.725 9.691406 \r\n\" style=\"fill:none;stroke:#000000;stroke-linecap:square;stroke-linejoin:miter;stroke-width:0.8;\"/>\r\n   </g>\r\n  </g>\r\n </g>\r\n <defs>\r\n  <clipPath id=\"pa7c1bc3268\">\r\n   <rect height=\"83.7\" width=\"334.8\" x=\"26.925\" y=\"9.691406\"/>\r\n  </clipPath>\r\n </defs>\r\n</svg>\r\n",
      "image/png": "[encoded data removed]"
     },
     "metadata": {
      "needs_background": "light"
     }
    }
   ],
   "source": [
    "import matplotlib.pyplot as plt  \n",
    "plt.imshow(training_img[100009], cmap='gray')"
   ]
  },
  {
   "cell_type": "code",
   "execution_count": 25,
   "metadata": {},
   "outputs": [
    {
     "output_type": "execute_result",
     "data": {
      "text/plain": "[22, 0, 19, 2, 7]"
     },
     "metadata": {},
     "execution_count": 25
    }
   ],
   "source": [
    "training_txt[100009]"
   ]
  },
  {
   "cell_type": "code",
   "execution_count": 26,
   "metadata": {},
   "outputs": [
    {
     "output_type": "execute_result",
     "data": {
      "text/plain": "'watch'"
     },
     "metadata": {},
     "execution_count": 26
    }
   ],
   "source": [
    "orig_txt[100009]"
   ]
  },
  {
   "cell_type": "code",
   "execution_count": 27,
   "metadata": {
    "tags": []
   },
   "outputs": [],
   "source": [
    "# pad each output label to maximum text length\n",
    "from keras.preprocessing.sequence import pad_sequences\n",
    "train_padded_txt = pad_sequences(training_txt, maxlen=max_label_len, padding='post', value = len(char_list))\n",
    "valid_padded_txt = pad_sequences(valid_txt, maxlen=max_label_len, padding='post', value = len(char_list))"
   ]
  },
  {
   "cell_type": "code",
   "execution_count": 28,
   "metadata": {
    "tags": []
   },
   "outputs": [
    {
     "output_type": "stream",
     "name": "stdout",
     "text": "(109552, 31)\n(5766, 31)\n"
    }
   ],
   "source": [
    "print(train_padded_txt.shape)\n",
    "print(valid_padded_txt.shape)"
   ]
  },
  {
   "cell_type": "code",
   "execution_count": 29,
   "metadata": {},
   "outputs": [],
   "source": [
    "from keras.layers import Dense, LSTM, Reshape, BatchNormalization, Input, Conv2D, MaxPool2D, Lambda, Bidirectional\n",
    "from keras.models import Model\n",
    "from keras.activations import relu, sigmoid, softmax\n",
    "import keras.backend as K\n",
    "from keras.utils import to_categorical\n",
    "from keras.callbacks import ModelCheckpoint"
   ]
  },
  {
   "cell_type": "code",
   "execution_count": 30,
   "metadata": {},
   "outputs": [],
   "source": [
    "# input with shape of height=32 and width=128 \n",
    "inputs = Input(shape=(32,128,1))\n",
    " \n",
    "# convolution layer with kernel size (3,3)\n",
    "conv_1 = Conv2D(64, (3,3), activation = 'relu', padding='same')(inputs)\n",
    "# poolig layer with kernel size (2,2)\n",
    "pool_1 = MaxPool2D(pool_size=(2, 2), strides=2)(conv_1)\n",
    " \n",
    "conv_2 = Conv2D(128, (3,3), activation = 'relu', padding='same')(pool_1)\n",
    "pool_2 = MaxPool2D(pool_size=(2, 2), strides=2)(conv_2)\n",
    " \n",
    "conv_3 = Conv2D(256, (3,3), activation = 'relu', padding='same')(pool_2)\n",
    " \n",
    "conv_4 = Conv2D(256, (3,3), activation = 'relu', padding='same')(conv_3)\n",
    "# poolig layer with kernel size (2,1)\n",
    "pool_4 = MaxPool2D(pool_size=(2, 1))(conv_4)\n",
    " \n",
    "conv_5 = Conv2D(512, (3,3), activation = 'relu', padding='same')(pool_4)\n",
    "# Batch normalization layer\n",
    "batch_norm_5 = BatchNormalization()(conv_5)\n",
    " \n",
    "conv_6 = Conv2D(512, (3,3), activation = 'relu', padding='same')(batch_norm_5)\n",
    "batch_norm_6 = BatchNormalization()(conv_6)\n",
    "pool_6 = MaxPool2D(pool_size=(2, 1))(batch_norm_6)\n",
    " \n",
    "conv_7 = Conv2D(512, (2,2), activation = 'relu')(pool_6)\n",
    " \n",
    "squeezed = Lambda(lambda x: K.squeeze(x, 1))(conv_7)\n",
    " \n",
    "# bidirectional LSTM layers with units=128\n",
    "blstm_1 = Bidirectional(LSTM(128, return_sequences=True, dropout = 0.2))(squeezed)\n",
    "blstm_2 = Bidirectional(LSTM(128, return_sequences=True, dropout = 0.2))(blstm_1)\n",
    " \n",
    "outputs = Dense(len(char_list)+1, activation = 'softmax')(blstm_2)\n",
    "\n",
    "# model to be used at test time\n",
    "act_model = Model(inputs, outputs)"
   ]
  },
  {
   "cell_type": "code",
   "execution_count": 31,
   "metadata": {
    "tags": []
   },
   "outputs": [
    {
     "output_type": "stream",
     "name": "stdout",
     "text": "Model: \"model_1\"\n_________________________________________________________________\nLayer (type)                 Output Shape              Param #   \n=================================================================\ninput_1 (InputLayer)         (None, 32, 128, 1)        0         \n_________________________________________________________________\nconv2d_1 (Conv2D)            (None, 32, 128, 64)       640       \n_________________________________________________________________\nmax_pooling2d_1 (MaxPooling2 (None, 16, 64, 64)        0         \n_________________________________________________________________\nconv2d_2 (Conv2D)            (None, 16, 64, 128)       73856     \n_________________________________________________________________\nmax_pooling2d_2 (MaxPooling2 (None, 8, 32, 128)        0         \n_________________________________________________________________\nconv2d_3 (Conv2D)            (None, 8, 32, 256)        295168    \n_________________________________________________________________\nconv2d_4 (Conv2D)            (None, 8, 32, 256)        590080    \n_________________________________________________________________\nmax_pooling2d_3 (MaxPooling2 (None, 4, 32, 256)        0         \n_________________________________________________________________\nconv2d_5 (Conv2D)            (None, 4, 32, 512)        1180160   \n_________________________________________________________________\nbatch_normalization_1 (Batch (None, 4, 32, 512)        2048      \n_________________________________________________________________\nconv2d_6 (Conv2D)            (None, 4, 32, 512)        2359808   \n_________________________________________________________________\nbatch_normalization_2 (Batch (None, 4, 32, 512)        2048      \n_________________________________________________________________\nmax_pooling2d_4 (MaxPooling2 (None, 2, 32, 512)        0         \n_________________________________________________________________\nconv2d_7 (Conv2D)            (None, 1, 31, 512)        1049088   \n_________________________________________________________________\nlambda_1 (Lambda)            (None, 31, 512)           0         \n_________________________________________________________________\nbidirectional_1 (Bidirection (None, 31, 256)           656384    \n_________________________________________________________________\nbidirectional_2 (Bidirection (None, 31, 256)           394240    \n_________________________________________________________________\ndense_1 (Dense)              (None, 31, 95)            24415     \n=================================================================\nTotal params: 6,627,935\nTrainable params: 6,625,887\nNon-trainable params: 2,048\n_________________________________________________________________\n"
    }
   ],
   "source": [
    "act_model.summary()"
   ]
  },
  {
   "cell_type": "code",
   "execution_count": 32,
   "metadata": {},
   "outputs": [],
   "source": [
    "labels = Input(name='the_labels', shape=[max_label_len], dtype='float32')\n",
    "input_length = Input(name='input_length', shape=[1], dtype='int64')\n",
    "label_length = Input(name='label_length', shape=[1], dtype='int64')\n",
    " \n",
    " \n",
    "def ctc_lambda_func(args):\n",
    "    y_pred, labels, input_length, label_length = args\n",
    " \n",
    "    return K.ctc_batch_cost(labels, y_pred, input_length, label_length)\n",
    " \n",
    " \n",
    "loss_out = Lambda(ctc_lambda_func, output_shape=(1,), name='ctc')([outputs, labels, input_length, label_length])\n",
    "\n",
    "#model to be used at training time\n",
    "model = Model(inputs=[inputs, labels, input_length, label_length], outputs=loss_out)"
   ]
  },
  {
   "cell_type": "code",
   "execution_count": 33,
   "metadata": {},
   "outputs": [],
   "source": [
    "model.compile(loss={'ctc': lambda y_true, y_pred: y_pred}, optimizer = 'adam')\n",
    " \n",
    "filepath=\"best_model.hdf5\"\n",
    "checkpoint = ModelCheckpoint(filepath=filepath, monitor='val_loss', verbose=1, save_best_only=True, mode='auto')\n",
    "callbacks_list = [checkpoint]"
   ]
  },
  {
   "cell_type": "code",
   "execution_count": 34,
   "metadata": {},
   "outputs": [],
   "source": [
    "training_img = np.array(training_img)\n",
    "train_input_length = np.array(train_input_length)\n",
    "train_label_length = np.array(train_label_length)\n",
    "\n",
    "valid_img = np.array(valid_img)\n",
    "valid_input_length = np.array(valid_input_length)\n",
    "valid_label_length = np.array(valid_label_length)"
   ]
  },
  {
   "cell_type": "code",
   "execution_count": 20,
   "metadata": {
    "tags": []
   },
   "outputs": [
    {
     "output_type": "stream",
     "name": "stdout",
     "text": "Train on 109552 samples, validate on 5766 samples\nEpoch 1/15\n 67584/109552 [=================>............] - ETA: 2:06:19 - loss: 14.7779"
    },
    {
     "output_type": "error",
     "ename": "InvalidArgumentError",
     "evalue": "Not enough time for target transition sequence (required: 53, available: 31)43You can turn this error into a warning by using the flag ignore_longer_outputs_than_inputs\n\t [[{{node ctc/CTCLoss}}]]",
     "traceback": [
      "\u001b[1;31m---------------------------------------------------------------------------\u001b[0m",
      "\u001b[1;31mInvalidArgumentError\u001b[0m                      Traceback (most recent call last)",
      "\u001b[1;32m<ipython-input-20-183f6bf4bdc3>\u001b[0m in \u001b[0;36m<module>\u001b[1;34m\u001b[0m\n\u001b[0;32m      1\u001b[0m \u001b[0mbatch_size\u001b[0m \u001b[1;33m=\u001b[0m \u001b[1;36m256\u001b[0m\u001b[1;33m\u001b[0m\u001b[1;33m\u001b[0m\u001b[0m\n\u001b[0;32m      2\u001b[0m \u001b[0mepochs\u001b[0m \u001b[1;33m=\u001b[0m \u001b[1;36m15\u001b[0m\u001b[1;33m\u001b[0m\u001b[1;33m\u001b[0m\u001b[0m\n\u001b[1;32m----> 3\u001b[1;33m \u001b[0mmodel\u001b[0m\u001b[1;33m.\u001b[0m\u001b[0mfit\u001b[0m\u001b[1;33m(\u001b[0m\u001b[0mx\u001b[0m\u001b[1;33m=\u001b[0m\u001b[1;33m[\u001b[0m\u001b[0mtraining_img\u001b[0m\u001b[1;33m,\u001b[0m \u001b[0mtrain_padded_txt\u001b[0m\u001b[1;33m,\u001b[0m \u001b[0mtrain_input_length\u001b[0m\u001b[1;33m,\u001b[0m \u001b[0mtrain_label_length\u001b[0m\u001b[1;33m]\u001b[0m\u001b[1;33m,\u001b[0m \u001b[0my\u001b[0m\u001b[1;33m=\u001b[0m\u001b[0mnp\u001b[0m\u001b[1;33m.\u001b[0m\u001b[0mzeros\u001b[0m\u001b[1;33m(\u001b[0m\u001b[0mlen\u001b[0m\u001b[1;33m(\u001b[0m\u001b[0mtraining_img\u001b[0m\u001b[1;33m)\u001b[0m\u001b[1;33m)\u001b[0m\u001b[1;33m,\u001b[0m \u001b[0mbatch_size\u001b[0m\u001b[1;33m=\u001b[0m\u001b[0mbatch_size\u001b[0m\u001b[1;33m,\u001b[0m \u001b[0mepochs\u001b[0m \u001b[1;33m=\u001b[0m \u001b[0mepochs\u001b[0m\u001b[1;33m,\u001b[0m \u001b[0mvalidation_data\u001b[0m \u001b[1;33m=\u001b[0m \u001b[1;33m(\u001b[0m\u001b[1;33m[\u001b[0m\u001b[0mvalid_img\u001b[0m\u001b[1;33m,\u001b[0m \u001b[0mvalid_padded_txt\u001b[0m\u001b[1;33m,\u001b[0m \u001b[0mvalid_input_length\u001b[0m\u001b[1;33m,\u001b[0m \u001b[0mvalid_label_length\u001b[0m\u001b[1;33m]\u001b[0m\u001b[1;33m,\u001b[0m \u001b[1;33m[\u001b[0m\u001b[0mnp\u001b[0m\u001b[1;33m.\u001b[0m\u001b[0mzeros\u001b[0m\u001b[1;33m(\u001b[0m\u001b[0mlen\u001b[0m\u001b[1;33m(\u001b[0m\u001b[0mvalid_img\u001b[0m\u001b[1;33m)\u001b[0m\u001b[1;33m)\u001b[0m\u001b[1;33m]\u001b[0m\u001b[1;33m)\u001b[0m\u001b[1;33m,\u001b[0m \u001b[0mverbose\u001b[0m \u001b[1;33m=\u001b[0m \u001b[1;36m1\u001b[0m\u001b[1;33m,\u001b[0m \u001b[0mcallbacks\u001b[0m \u001b[1;33m=\u001b[0m \u001b[0mcallbacks_list\u001b[0m\u001b[1;33m)\u001b[0m\u001b[1;33m\u001b[0m\u001b[1;33m\u001b[0m\u001b[0m\n\u001b[0m",
      "\u001b[1;32m~\\Anaconda3\\envs\\py37\\lib\\site-packages\\keras\\engine\\training.py\u001b[0m in \u001b[0;36mfit\u001b[1;34m(self, x, y, batch_size, epochs, verbose, callbacks, validation_split, validation_data, shuffle, class_weight, sample_weight, initial_epoch, steps_per_epoch, validation_steps, validation_freq, max_queue_size, workers, use_multiprocessing, **kwargs)\u001b[0m\n\u001b[0;32m   1237\u001b[0m                                         \u001b[0msteps_per_epoch\u001b[0m\u001b[1;33m=\u001b[0m\u001b[0msteps_per_epoch\u001b[0m\u001b[1;33m,\u001b[0m\u001b[1;33m\u001b[0m\u001b[1;33m\u001b[0m\u001b[0m\n\u001b[0;32m   1238\u001b[0m                                         \u001b[0mvalidation_steps\u001b[0m\u001b[1;33m=\u001b[0m\u001b[0mvalidation_steps\u001b[0m\u001b[1;33m,\u001b[0m\u001b[1;33m\u001b[0m\u001b[1;33m\u001b[0m\u001b[0m\n\u001b[1;32m-> 1239\u001b[1;33m                                         validation_freq=validation_freq)\n\u001b[0m\u001b[0;32m   1240\u001b[0m \u001b[1;33m\u001b[0m\u001b[0m\n\u001b[0;32m   1241\u001b[0m     def evaluate(self,\n",
      "\u001b[1;32m~\\Anaconda3\\envs\\py37\\lib\\site-packages\\keras\\engine\\training_arrays.py\u001b[0m in \u001b[0;36mfit_loop\u001b[1;34m(model, fit_function, fit_inputs, out_labels, batch_size, epochs, verbose, callbacks, val_function, val_inputs, shuffle, initial_epoch, steps_per_epoch, validation_steps, validation_freq)\u001b[0m\n\u001b[0;32m    194\u001b[0m                     \u001b[0mins_batch\u001b[0m\u001b[1;33m[\u001b[0m\u001b[0mi\u001b[0m\u001b[1;33m]\u001b[0m \u001b[1;33m=\u001b[0m \u001b[0mins_batch\u001b[0m\u001b[1;33m[\u001b[0m\u001b[0mi\u001b[0m\u001b[1;33m]\u001b[0m\u001b[1;33m.\u001b[0m\u001b[0mtoarray\u001b[0m\u001b[1;33m(\u001b[0m\u001b[1;33m)\u001b[0m\u001b[1;33m\u001b[0m\u001b[1;33m\u001b[0m\u001b[0m\n\u001b[0;32m    195\u001b[0m \u001b[1;33m\u001b[0m\u001b[0m\n\u001b[1;32m--> 196\u001b[1;33m                 \u001b[0mouts\u001b[0m \u001b[1;33m=\u001b[0m \u001b[0mfit_function\u001b[0m\u001b[1;33m(\u001b[0m\u001b[0mins_batch\u001b[0m\u001b[1;33m)\u001b[0m\u001b[1;33m\u001b[0m\u001b[1;33m\u001b[0m\u001b[0m\n\u001b[0m\u001b[0;32m    197\u001b[0m                 \u001b[0mouts\u001b[0m \u001b[1;33m=\u001b[0m \u001b[0mto_list\u001b[0m\u001b[1;33m(\u001b[0m\u001b[0mouts\u001b[0m\u001b[1;33m)\u001b[0m\u001b[1;33m\u001b[0m\u001b[1;33m\u001b[0m\u001b[0m\n\u001b[0;32m    198\u001b[0m                 \u001b[1;32mfor\u001b[0m \u001b[0ml\u001b[0m\u001b[1;33m,\u001b[0m \u001b[0mo\u001b[0m \u001b[1;32min\u001b[0m \u001b[0mzip\u001b[0m\u001b[1;33m(\u001b[0m\u001b[0mout_labels\u001b[0m\u001b[1;33m,\u001b[0m \u001b[0mouts\u001b[0m\u001b[1;33m)\u001b[0m\u001b[1;33m:\u001b[0m\u001b[1;33m\u001b[0m\u001b[1;33m\u001b[0m\u001b[0m\n",
      "\u001b[1;32m~\\Anaconda3\\envs\\py37\\lib\\site-packages\\tensorflow_core\\python\\keras\\backend.py\u001b[0m in \u001b[0;36m__call__\u001b[1;34m(self, inputs)\u001b[0m\n\u001b[0;32m   3474\u001b[0m \u001b[1;33m\u001b[0m\u001b[0m\n\u001b[0;32m   3475\u001b[0m     fetched = self._callable_fn(*array_vals,\n\u001b[1;32m-> 3476\u001b[1;33m                                 run_metadata=self.run_metadata)\n\u001b[0m\u001b[0;32m   3477\u001b[0m     \u001b[0mself\u001b[0m\u001b[1;33m.\u001b[0m\u001b[0m_call_fetch_callbacks\u001b[0m\u001b[1;33m(\u001b[0m\u001b[0mfetched\u001b[0m\u001b[1;33m[\u001b[0m\u001b[1;33m-\u001b[0m\u001b[0mlen\u001b[0m\u001b[1;33m(\u001b[0m\u001b[0mself\u001b[0m\u001b[1;33m.\u001b[0m\u001b[0m_fetches\u001b[0m\u001b[1;33m)\u001b[0m\u001b[1;33m:\u001b[0m\u001b[1;33m]\u001b[0m\u001b[1;33m)\u001b[0m\u001b[1;33m\u001b[0m\u001b[1;33m\u001b[0m\u001b[0m\n\u001b[0;32m   3478\u001b[0m     output_structure = nest.pack_sequence_as(\n",
      "\u001b[1;32m~\\Anaconda3\\envs\\py37\\lib\\site-packages\\tensorflow_core\\python\\client\\session.py\u001b[0m in \u001b[0;36m__call__\u001b[1;34m(self, *args, **kwargs)\u001b[0m\n\u001b[0;32m   1470\u001b[0m         ret = tf_session.TF_SessionRunCallable(self._session._session,\n\u001b[0;32m   1471\u001b[0m                                                \u001b[0mself\u001b[0m\u001b[1;33m.\u001b[0m\u001b[0m_handle\u001b[0m\u001b[1;33m,\u001b[0m \u001b[0margs\u001b[0m\u001b[1;33m,\u001b[0m\u001b[1;33m\u001b[0m\u001b[1;33m\u001b[0m\u001b[0m\n\u001b[1;32m-> 1472\u001b[1;33m                                                run_metadata_ptr)\n\u001b[0m\u001b[0;32m   1473\u001b[0m         \u001b[1;32mif\u001b[0m \u001b[0mrun_metadata\u001b[0m\u001b[1;33m:\u001b[0m\u001b[1;33m\u001b[0m\u001b[1;33m\u001b[0m\u001b[0m\n\u001b[0;32m   1474\u001b[0m           \u001b[0mproto_data\u001b[0m \u001b[1;33m=\u001b[0m \u001b[0mtf_session\u001b[0m\u001b[1;33m.\u001b[0m\u001b[0mTF_GetBuffer\u001b[0m\u001b[1;33m(\u001b[0m\u001b[0mrun_metadata_ptr\u001b[0m\u001b[1;33m)\u001b[0m\u001b[1;33m\u001b[0m\u001b[1;33m\u001b[0m\u001b[0m\n",
      "\u001b[1;31mInvalidArgumentError\u001b[0m: Not enough time for target transition sequence (required: 53, available: 31)43You can turn this error into a warning by using the flag ignore_longer_outputs_than_inputs\n\t [[{{node ctc/CTCLoss}}]]"
     ]
    }
   ],
   "source": [
    "batch_size = 256\n",
    "epochs = 15\n",
    "model.fit(x=[training_img, train_padded_txt, train_input_length, train_label_length], y=np.zeros(len(training_img)), batch_size=batch_size, epochs = epochs, validation_data = ([valid_img, valid_padded_txt, valid_input_length, valid_label_length], [np.zeros(len(valid_img))]), verbose = 1, callbacks = callbacks_list)"
   ]
  },
  {
   "cell_type": "code",
   "execution_count": 36,
   "metadata": {},
   "outputs": [],
   "source": [
    "act_model.load_weights('best_model.hdf5')"
   ]
  },
  {
   "cell_type": "code",
   "execution_count": 1,
   "metadata": {},
   "outputs": [
    {
     "output_type": "error",
     "ename": "NameError",
     "evalue": "name 'resize_words' is not defined",
     "traceback": [
      "\u001b[1;31m---------------------------------------------------------------------------\u001b[0m",
      "\u001b[1;31mNameError\u001b[0m                                 Traceback (most recent call last)",
      "\u001b[1;32m<ipython-input-1-62ebebd5d424>\u001b[0m in \u001b[0;36m<module>\u001b[1;34m\u001b[0m\n\u001b[1;32m----> 1\u001b[1;33m \u001b[0mtest_imag\u001b[0m \u001b[1;33m=\u001b[0m \u001b[0mresize_words\u001b[0m\u001b[1;33m(\u001b[0m\u001b[0mcv2\u001b[0m\u001b[1;33m.\u001b[0m\u001b[0mimread\u001b[0m\u001b[1;33m(\u001b[0m\u001b[1;34m'C:/Users/luqman/Desktop/OCR Handwritten Recognition/Scanned doc text detection and segmentation/segmentation/word segment images/line_2.jpg/1.jpg'\u001b[0m\u001b[1;33m,\u001b[0m \u001b[1;36m0\u001b[0m\u001b[1;33m)\u001b[0m\u001b[1;33m)\u001b[0m\u001b[1;33m\u001b[0m\u001b[1;33m\u001b[0m\u001b[0m\n\u001b[0m",
      "\u001b[1;31mNameError\u001b[0m: name 'resize_words' is not defined"
     ]
    }
   ],
   "source": [
    "test_imag = resize_words(cv2.imread('C:/Users/luqman/Desktop/OCR Handwritten Recognition/Scanned doc text detection and segmentation/segmentation/word segment images/line_2.jpg/1.jpg', 0))"
   ]
  },
  {
   "cell_type": "code",
   "execution_count": 2,
   "metadata": {},
   "outputs": [
    {
     "output_type": "error",
     "ename": "NameError",
     "evalue": "name 'plt' is not defined",
     "traceback": [
      "\u001b[1;31m---------------------------------------------------------------------------\u001b[0m",
      "\u001b[1;31mNameError\u001b[0m                                 Traceback (most recent call last)",
      "\u001b[1;32m<ipython-input-2-d0e48e069004>\u001b[0m in \u001b[0;36m<module>\u001b[1;34m\u001b[0m\n\u001b[1;32m----> 1\u001b[1;33m \u001b[0mplt\u001b[0m\u001b[1;33m.\u001b[0m\u001b[0mimshow\u001b[0m\u001b[1;33m(\u001b[0m\u001b[0mtest_imag\u001b[0m\u001b[1;33m,\u001b[0m \u001b[0mcmap\u001b[0m\u001b[1;33m=\u001b[0m\u001b[1;34m'gray'\u001b[0m\u001b[1;33m)\u001b[0m\u001b[1;33m\u001b[0m\u001b[1;33m\u001b[0m\u001b[0m\n\u001b[0m",
      "\u001b[1;31mNameError\u001b[0m: name 'plt' is not defined"
     ]
    }
   ],
   "source": [
    "plt.imshow(test_imag, cmap='gray')"
   ]
  },
  {
   "cell_type": "code",
   "execution_count": 92,
   "metadata": {},
   "outputs": [],
   "source": [
    "t_image = np.expand_dims(test_imag, axis = 2)\n",
    "_image = t_image/255.\n",
    "st_image1 = np.asarray(_image)\n",
    "test_age2 = st_image1[np.newaxis]"
   ]
  },
  {
   "cell_type": "code",
   "execution_count": 93,
   "metadata": {},
   "outputs": [
    {
     "output_type": "execute_result",
     "data": {
      "text/plain": "(1, 32, 128, 1)"
     },
     "metadata": {},
     "execution_count": 93
    }
   ],
   "source": [
    "test_age2.shape"
   ]
  },
  {
   "cell_type": "code",
   "execution_count": 94,
   "metadata": {
    "tags": []
   },
   "outputs": [
    {
     "output_type": "stream",
     "name": "stdout",
     "text": "predicted text = This\n\n"
    }
   ],
   "source": [
    "predict = act_model.predict(test_age2)\n",
    "out = K.get_value(K.ctc_decode(predict, input_length=np.ones(predict.shape[0])*predict.shape[1], greedy=True)[0][0])\n",
    " \n",
    "# see the results\n",
    "i = 0\n",
    "for x in out:\n",
    "    #print(\"original_text =  \", valid_orig_txt[i])\n",
    "    print(\"predicted text = \", end = '')\n",
    "    for p in x:  \n",
    "        if int(p) != -1:\n",
    "            print(char_list[int(p)], end = '')       \n",
    "    print('\\n')\n",
    "    i+=1"
   ]
  },
  {
   "cell_type": "code",
   "execution_count": null,
   "metadata": {},
   "outputs": [],
   "source": []
  },
  {
   "cell_type": "code",
   "execution_count": null,
   "metadata": {},
   "outputs": [],
   "source": []
  }
 ]
}