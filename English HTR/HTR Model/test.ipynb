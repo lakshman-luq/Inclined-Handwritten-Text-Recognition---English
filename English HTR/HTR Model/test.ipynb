{
 "metadata": {
  "language_info": {
   "codemirror_mode": {
    "name": "ipython",
    "version": 3
   },
   "file_extension": ".py",
   "mimetype": "text/x-python",
   "name": "python",
   "nbconvert_exporter": "python",
   "pygments_lexer": "ipython3",
   "version": "3.7.9-final"
  },
  "orig_nbformat": 2,
  "kernelspec": {
   "name": "Python 3.7.9 64-bit ('py37': conda)",
   "display_name": "Python 3.7.9 64-bit ('py37': conda)",
   "metadata": {
    "interpreter": {
     "hash": "4c02602eb15a4b95f5d170c436c0572c3921254476605f16e2e8702e121cc4d0"
    }
   }
  }
 },
 "nbformat": 4,
 "nbformat_minor": 2,
 "cells": [
  {
   "cell_type": "code",
   "execution_count": 1,
   "metadata": {},
   "outputs": [],
   "source": [
    "from line_segmentation import line_segmentation\n",
    "from word_segmentation import word_segmentation\n",
    "import cv2\n",
    "import numpy as np"
   ]
  },
  {
   "cell_type": "code",
   "execution_count": 8,
   "metadata": {
    "tags": []
   },
   "outputs": [],
   "source": [
    "img = cv2.imread('C:/Users/luqman/Desktop/OCR Handwritten Recognition/Scanned doc text detection and segmentation/segmentation/1.jpg')\n",
    "line_segments = line_segmentation(img)"
   ]
  },
  {
   "cell_type": "code",
   "execution_count": 9,
   "metadata": {
    "tags": []
   },
   "outputs": [
    {
     "output_type": "stream",
     "name": "stdout",
     "text": "Segmenting words of line_0.jpg\nSegmenting words of line_1.jpg\nSegmenting words of line_2.jpg\nSegmenting words of line_3.jpg\nSegmenting words of line_4.jpg\nSegmenting words of line_5.jpg\nSegmenting words of line_6.jpg\nSegmenting words of line_7.jpg\nSegmenting words of line_8.jpg\nSegmenting words of line_9.jpg\nSegmenting words of line_10.jpg\nSegmenting words of line_11.jpg\nSegmenting words of line_12.jpg\nSegmenting words of line_13.jpg\nSegmenting words of line_14.jpg\nSegmenting words of line_15.jpg\nSegmenting words of line_16.jpg\nSegmenting words of line_17.jpg\nSegmenting words of line_18.jpg\n"
    }
   ],
   "source": [
    "word_segments = word_segmentation(img)"
   ]
  },
  {
   "cell_type": "code",
   "execution_count": null,
   "metadata": {},
   "outputs": [],
   "source": []
  },
  {
   "cell_type": "code",
   "execution_count": null,
   "metadata": {},
   "outputs": [],
   "source": []
  },
  {
   "cell_type": "code",
   "execution_count": null,
   "metadata": {},
   "outputs": [],
   "source": []
  }
 ]
}